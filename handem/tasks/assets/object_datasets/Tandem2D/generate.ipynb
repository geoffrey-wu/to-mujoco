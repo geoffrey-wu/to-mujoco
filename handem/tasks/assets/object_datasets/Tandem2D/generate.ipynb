{
 "cells": [
  {
   "cell_type": "code",
   "execution_count": null,
   "metadata": {},
   "outputs": [],
   "source": [
    "import trimesh\n",
    "import trimesh.path.polygons as tp\n",
    "import trimesh.creation as tc\n",
    "from trimesh.exchange.obj import export_obj\n",
    "import numpy as np\n",
    "import os\n",
    "import argparse\n",
    "import matplotlib.pyplot as plt"
   ]
  },
  {
   "cell_type": "code",
   "execution_count": 7,
   "metadata": {},
   "outputs": [],
   "source": [
    "segments = 8\n",
    "radius = 0.125\n",
    "height = 0.075\n",
    "\n",
    "np.random.seed(10)\n",
    "\n",
    "# example, clockwise\n",
    "polygon_vertices = [\n",
    "    [0, 0],\n",
    "    [0, 1],\n",
    "    [2, 2],\n",
    "    [1, 3],\n",
    "    [3, 4],\n",
    "    [4, 3],\n",
    "    [3, 1]]\n",
    "polygon = tp.paths_to_polygons([polygon_vertices])[0]\n",
    "# sampling random polygon and extrude to 3D mesh, and create meshes\n",
    "os.makedirs('vertices/', exist_ok=True)\n",
    "os.makedirs('meshes/', exist_ok=True)  \n",
    "for i in range(10):\n",
    "    polygon = tp.random_polygon(segments=segments, radius=radius)\n",
    "    vertices, faces = trimesh.creation.triangulate_polygon(polygon)\n",
    "    mesh = tc.extrude_polygon(polygon, height=height)\n",
    "    mesh.export(os.path.join(\"meshes\", f'{i}.obj'))\n",
    "    np.save(f'vertices/{i}.npy', vertices)\n"
   ]
  },
  {
   "cell_type": "code",
   "execution_count": null,
   "metadata": {},
   "outputs": [],
   "source": []
  }
 ],
 "metadata": {
  "kernelspec": {
   "display_name": "aim",
   "language": "python",
   "name": "python3"
  },
  "language_info": {
   "codemirror_mode": {
    "name": "ipython",
    "version": 3
   },
   "file_extension": ".py",
   "mimetype": "text/x-python",
   "name": "python",
   "nbconvert_exporter": "python",
   "pygments_lexer": "ipython3",
   "version": "3.8.10"
  },
  "orig_nbformat": 4
 },
 "nbformat": 4,
 "nbformat_minor": 2
}

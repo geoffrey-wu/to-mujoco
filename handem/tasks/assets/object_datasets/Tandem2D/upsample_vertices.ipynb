{
 "cells": [
  {
   "cell_type": "code",
   "execution_count": 13,
   "metadata": {},
   "outputs": [],
   "source": [
    "import torch\n",
    "import pytorch3d\n",
    "import numpy as np\n",
    "import matplotlib.pyplot as plt"
   ]
  },
  {
   "cell_type": "code",
   "execution_count": 11,
   "metadata": {},
   "outputs": [],
   "source": [
    "import os\n",
    "os.makedirs('upsampled_vertices', exist_ok=True)\n",
    "for j in range(10):\n",
    "    vertices = torch.tensor(np.load(f'vertices/{j}.npy')).float()\n",
    "    n_vertices, vertex_dim = vertices.shape\n",
    "    upsample_num = 30\n",
    "    upsampled_edges = []\n",
    "    for i in range(n_vertices):\n",
    "        next_i = (i+1)%n_vertices\n",
    "        alpha = torch.linspace(0, 1, upsample_num)\n",
    "        interpolated_points = vertices[i] + alpha[:,None]*(vertices[next_i]-vertices[i])\n",
    "        upsampled_edges.append(interpolated_points)\n",
    "    upsampled_vertices = torch.cat(upsampled_edges, dim=0)\n",
    "    # save\n",
    "    np.save(f'upsampled_vertices/{j}.npy', upsampled_vertices.numpy())"
   ]
  },
  {
   "cell_type": "code",
   "execution_count": null,
   "metadata": {},
   "outputs": [],
   "source": []
  }
 ],
 "metadata": {
  "kernelspec": {
   "display_name": "aim",
   "language": "python",
   "name": "python3"
  },
  "language_info": {
   "codemirror_mode": {
    "name": "ipython",
    "version": 3
   },
   "file_extension": ".py",
   "mimetype": "text/x-python",
   "name": "python",
   "nbconvert_exporter": "python",
   "pygments_lexer": "ipython3",
   "version": "3.8.10"
  },
  "orig_nbformat": 4
 },
 "nbformat": 4,
 "nbformat_minor": 2
}
